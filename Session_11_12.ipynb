{
 "cells": [
  {
   "cell_type": "markdown",
   "id": "0d9e68c9-bbcc-460a-b941-9cec6be4a08e",
   "metadata": {},
   "source": [
    "## Define Function User Value"
   ]
  },
  {
   "cell_type": "code",
   "execution_count": 14,
   "id": "7981a1af-6c43-48fa-b97c-99c9b245b3d8",
   "metadata": {},
   "outputs": [],
   "source": [
    "def user_value():\n",
    "    number = input('you can more number with , ')\n",
    "    return number"
   ]
  },
  {
   "cell_type": "code",
   "execution_count": 27,
   "id": "74605819-f9f5-4a15-b486-8a54a1bd2955",
   "metadata": {},
   "outputs": [
    {
     "name": "stdin",
     "output_type": "stream",
     "text": [
      "you can more number with ,  10,20\n"
     ]
    }
   ],
   "source": [
    "value = user_value()"
   ]
  },
  {
   "cell_type": "markdown",
   "id": "67ad3004-047a-4201-b079-315f2b8f6176",
   "metadata": {},
   "source": [
    "## Define Function Prepare Data\n",
    "Split\n",
    "Tuple"
   ]
  },
  {
   "cell_type": "code",
   "execution_count": 49,
   "id": "178e2b9f-207f-49fd-81c9-73923f89545a",
   "metadata": {},
   "outputs": [],
   "source": [
    "def prepare_data(value):\n",
    "    list_number = []\n",
    "    value = value.split(',')\n",
    "    for v in value:\n",
    "        list_number.append(int(v))\n",
    "    list_number = tuple(list_number)\n",
    "    return list_number"
   ]
  },
  {
   "cell_type": "code",
   "execution_count": 50,
   "id": "20030adf-f7e0-4151-b7ed-397744ff73ce",
   "metadata": {},
   "outputs": [
    {
     "name": "stdout",
     "output_type": "stream",
     "text": [
      "(10, 20)\n"
     ]
    }
   ],
   "source": [
    "print(prepare_data(value))"
   ]
  },
  {
   "cell_type": "code",
   "execution_count": 51,
   "id": "0687465a-227a-48fb-a169-3f37c5fbbaba",
   "metadata": {},
   "outputs": [],
   "source": [
    "def f(a,b , *args):\n",
    "    for arg in args:\n",
    "        print(arg)"
   ]
  },
  {
   "cell_type": "code",
   "execution_count": 52,
   "id": "e94fd0ca-9de7-4157-9c06-db46cf326eb3",
   "metadata": {},
   "outputs": [
    {
     "name": "stdout",
     "output_type": "stream",
     "text": [
      "3\n",
      "4\n",
      "5\n",
      "6\n"
     ]
    }
   ],
   "source": [
    "f(1,2,3,4,5,6)"
   ]
  },
  {
   "cell_type": "markdown",
   "id": "abffa831-6226-4e9e-a919-b30b276858b4",
   "metadata": {},
   "source": [
    "## Function Positional Argument"
   ]
  },
  {
   "cell_type": "code",
   "execution_count": null,
   "id": "2798a590-3625-4405-b31f-8fa8e7515ee4",
   "metadata": {},
   "outputs": [],
   "source": [
    "def sum(a, b):\n",
    "    pass\n",
    "\n",
    "sum(10, 20)"
   ]
  },
  {
   "cell_type": "code",
   "execution_count": null,
   "id": "7b1d1e3b-bd65-41cd-8827-51ff23f19201",
   "metadata": {},
   "outputs": [],
   "source": [
    "def sum(a,b, /):\n",
    "    pass"
   ]
  },
  {
   "cell_type": "markdown",
   "id": "39195da6-18b9-4ec5-901b-118da6f85b94",
   "metadata": {},
   "source": [
    "## Function keyw args"
   ]
  },
  {
   "cell_type": "code",
   "execution_count": null,
   "id": "7b310672-4dd4-4723-b804-d33b48711e5d",
   "metadata": {},
   "outputs": [],
   "source": [
    "def sum(a, b):\n",
    "    pass"
   ]
  },
  {
   "cell_type": "code",
   "execution_count": null,
   "id": "807f2368-b04f-4684-8471-3d43f88dbb46",
   "metadata": {},
   "outputs": [],
   "source": [
    "sum(b=10,a=20)"
   ]
  },
  {
   "cell_type": "code",
   "execution_count": null,
   "id": "7881cf0c-82e1-45fb-b70e-d37ea6946296",
   "metadata": {},
   "outputs": [],
   "source": [
    "def sum(*, a, b):\n",
    "    pass"
   ]
  },
  {
   "cell_type": "markdown",
   "id": "9f42b5ce-f858-48a9-b442-e749ff47715c",
   "metadata": {},
   "source": [
    "## Function *args\n"
   ]
  },
  {
   "cell_type": "code",
   "execution_count": null,
   "id": "60c92afa-cb44-4a4b-8a32-906d2eb53c15",
   "metadata": {},
   "outputs": [],
   "source": [
    "def sum(a, b, *args):\n",
    "    pass"
   ]
  },
  {
   "cell_type": "code",
   "execution_count": null,
   "id": "ae82312c-07eb-4220-80ff-33cc0b75891e",
   "metadata": {},
   "outputs": [],
   "source": [
    "sum(1, 2, 3, 4, 5)"
   ]
  },
  {
   "cell_type": "markdown",
   "id": "d9556209-2ab3-492a-8067-ab53c8a9648e",
   "metadata": {},
   "source": [
    "## Function *kwargs\n"
   ]
  },
  {
   "cell_type": "code",
   "execution_count": null,
   "id": "5b671920-562c-48fc-a0e0-abbbaf0b272a",
   "metadata": {},
   "outputs": [],
   "source": [
    "def sum(a, b, **kwargs):\n",
    "    print(kwargs)"
   ]
  },
  {
   "cell_type": "code",
   "execution_count": null,
   "id": "d95f2242-b332-4c03-a22a-1294a347cccf",
   "metadata": {},
   "outputs": [],
   "source": [
    "sum(1,2, c=1, d=2, f=4)"
   ]
  },
  {
   "cell_type": "markdown",
   "id": "2fbc32a9-e10c-4ecd-8782-fc83ba4858b0",
   "metadata": {},
   "source": [
    "## Priority"
   ]
  },
  {
   "cell_type": "code",
   "execution_count": null,
   "id": "426d952f-b2b6-42f5-968f-74ea51f81f1d",
   "metadata": {},
   "outputs": [],
   "source": [
    "def sum(a, b, *args, **kwargs):\n",
    "    pass"
   ]
  },
  {
   "cell_type": "code",
   "execution_count": 2,
   "id": "cd5e4513-6bf2-4c92-8101-f8a191b9e7fd",
   "metadata": {},
   "outputs": [],
   "source": [
    "user = {\n",
    "    100:'hossein',\n",
    "    101:'reza'\n",
    "\n",
    "}"
   ]
  },
  {
   "cell_type": "code",
   "execution_count": 3,
   "id": "a81682d9-2621-47cd-9f33-9bf4b871dd6f",
   "metadata": {},
   "outputs": [],
   "source": [
    "user[103] = 'test'"
   ]
  },
  {
   "cell_type": "code",
   "execution_count": 4,
   "id": "02b36bef-ed6f-4900-bcc1-a3691c90d01f",
   "metadata": {},
   "outputs": [
    {
     "data": {
      "text/plain": [
       "{100: 'hossein', 101: 'reza', 103: 'test'}"
      ]
     },
     "execution_count": 4,
     "metadata": {},
     "output_type": "execute_result"
    }
   ],
   "source": [
    "user"
   ]
  },
  {
   "cell_type": "code",
   "execution_count": null,
   "id": "45398d05-dcc3-440b-85f6-7ad08857a80e",
   "metadata": {},
   "outputs": [],
   "source": []
  }
 ],
 "metadata": {
  "kernelspec": {
   "display_name": "Python 3 (ipykernel)",
   "language": "python",
   "name": "python3"
  },
  "language_info": {
   "codemirror_mode": {
    "name": "ipython",
    "version": 3
   },
   "file_extension": ".py",
   "mimetype": "text/x-python",
   "name": "python",
   "nbconvert_exporter": "python",
   "pygments_lexer": "ipython3",
   "version": "3.11.5"
  }
 },
 "nbformat": 4,
 "nbformat_minor": 5
}
