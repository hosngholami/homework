{
 "cells": [
  {
   "cell_type": "markdown",
   "id": "ed060b60-5e1f-40bb-8b54-fa5a004d66e5",
   "metadata": {},
   "source": [
    "## Exercise 1"
   ]
  },
  {
   "cell_type": "markdown",
   "id": "37257d5b-6d01-4de9-adb0-ef38c4058e9d",
   "metadata": {},
   "source": [
    "## Get User Data"
   ]
  },
  {
   "cell_type": "code",
   "execution_count": 41,
   "id": "a48eb6ec-e912-4d6c-93ef-c086be3e7121",
   "metadata": {},
   "outputs": [],
   "source": [
    "def get_list():\n",
    "    word_list = ['banana', 'apple', 'cherry', 'grape', 'kiwi', 'date']\n",
    "    # word_list = ['new york', 'toronto', 'london', 'greece']\n",
    "    return word_list"
   ]
  },
  {
   "cell_type": "markdown",
   "id": "109dcc76-9efa-4986-aef5-5f570ee8f467",
   "metadata": {},
   "source": [
    "## Prepare Data"
   ]
  },
  {
   "cell_type": "code",
   "execution_count": 34,
   "id": "5b27c723-6aa0-4c38-a2e3-2e008ebd0730",
   "metadata": {},
   "outputs": [],
   "source": [
    "def prepare_data_word(word_list: list):\n",
    "    words = []\n",
    "    for word in word_list:\n",
    "        words.append(word.lower())\n",
    "    return words"
   ]
  },
  {
   "cell_type": "code",
   "execution_count": 35,
   "id": "3ae67d53-3b6d-4553-9aaa-a6931421ad1a",
   "metadata": {},
   "outputs": [],
   "source": [
    "\n",
    "def valid_word(word_list: list):\n",
    "    valid_word = []\n",
    "    for word in word_list:\n",
    "        if \"a\" in word:\n",
    "            valid_word.append(word)\n",
    "    return valid_word\n",
    "    "
   ]
  },
  {
   "cell_type": "code",
   "execution_count": 36,
   "id": "9f10974d-9c99-4948-b671-911e58ab7faa",
   "metadata": {},
   "outputs": [],
   "source": [
    "def compare(word_list: list):\n",
    "    max_len = \"\"\n",
    "    for word in word_list:\n",
    "        if len(word) > len(max_len):\n",
    "            max_len = word\n",
    "\n",
    "    return max_len"
   ]
  },
  {
   "cell_type": "code",
   "execution_count": 37,
   "id": "caf2e285-2d16-42bc-b2cd-99e2592ec549",
   "metadata": {},
   "outputs": [],
   "source": [
    "def match():\n",
    "    word_list = get_list()\n",
    "    word_list = prepare_data_word(word_list)\n",
    "    word_list = valid_word(word_list)\n",
    "\n",
    "    if len(word_list) == 0:\n",
    "        return 'Not Found'\n",
    "    else:\n",
    "       word =  compare(word_list)\n",
    "       return word\n",
    "    "
   ]
  },
  {
   "cell_type": "code",
   "execution_count": 42,
   "id": "b91747a3-0e22-4d45-8194-f214cf5bb7c5",
   "metadata": {},
   "outputs": [
    {
     "data": {
      "text/plain": [
       "'banana'"
      ]
     },
     "execution_count": 42,
     "metadata": {},
     "output_type": "execute_result"
    }
   ],
   "source": [
    "match()"
   ]
  },
  {
   "cell_type": "markdown",
   "id": "39697336-1d33-4b17-8c74-c550a48f79a8",
   "metadata": {},
   "source": [
    "## Excercise 2"
   ]
  },
  {
   "cell_type": "markdown",
   "id": "8257b57e-f6e0-4568-be77-4c203655997d",
   "metadata": {},
   "source": [
    "## Get User Data    "
   ]
  },
  {
   "cell_type": "code",
   "execution_count": 43,
   "id": "d0df47b6-f675-4145-831a-c14ca457a31c",
   "metadata": {},
   "outputs": [],
   "source": [
    "def get_palindrome_text_user():\n",
    "    palindrome_text = \"A man,a plan,a canal, Panama\"\n",
    "    # palindrome_text = \"Hello, World\"\n",
    "    return palindrome_text"
   ]
  },
  {
   "cell_type": "markdown",
   "id": "491ec248-37dc-4799-9cb0-7808eb96a78f",
   "metadata": {},
   "source": [
    "## Prepare Data"
   ]
  },
  {
   "cell_type": "code",
   "execution_count": 44,
   "id": "ba760f52-735e-430d-9a9b-d04088522261",
   "metadata": {},
   "outputs": [],
   "source": [
    "def prepare_data_palindrome(text):\n",
    "    text = text.replace(',', '')\n",
    "    text = text.replace(' ','')\n",
    "    text = text.lower()\n",
    "    return text"
   ]
  },
  {
   "cell_type": "markdown",
   "id": "2d235fcc-5e4f-490b-b0af-2c0cb695e32e",
   "metadata": {},
   "source": [
    "## Check Palindrome"
   ]
  },
  {
   "cell_type": "code",
   "execution_count": 45,
   "id": "4c5be1ee-b91a-4258-a9dd-e22d8a4ca61d",
   "metadata": {},
   "outputs": [],
   "source": [
    "def check_Palindrome(text):\n",
    "    list_str = list(text)\n",
    "    for i in range(0,len(text) // 2):\n",
    "        if (list_str[i]) != (list_str[-i-1]):\n",
    "            return False\n",
    "    return True"
   ]
  },
  {
   "cell_type": "code",
   "execution_count": 46,
   "id": "6d9824d3-72e2-4733-847b-18e2dff7f64e",
   "metadata": {},
   "outputs": [],
   "source": [
    "def main_palindrome():\n",
    "   text =  get_palindrome_text_user()\n",
    "   text = prepare_data_palindrome(text)\n",
    "   valid = check_Palindrome(text)\n",
    "   return valid"
   ]
  },
  {
   "cell_type": "code",
   "execution_count": 47,
   "id": "d602902f-a157-46f1-a590-90fd197de500",
   "metadata": {},
   "outputs": [
    {
     "data": {
      "text/plain": [
       "True"
      ]
     },
     "execution_count": 47,
     "metadata": {},
     "output_type": "execute_result"
    }
   ],
   "source": [
    "main_palindrome()"
   ]
  },
  {
   "cell_type": "markdown",
   "id": "f20ee05a-f601-40aa-b93c-02a49401283c",
   "metadata": {},
   "source": [
    "### Execrsie 3\n"
   ]
  },
  {
   "cell_type": "code",
   "execution_count": 48,
   "id": "2fbba3b3-7b5f-4d0b-a7da-c38731a64e90",
   "metadata": {},
   "outputs": [],
   "source": [
    "def get_user_data():\n",
    "    text = input('enter text: ')\n",
    "    return text"
   ]
  },
  {
   "cell_type": "code",
   "execution_count": 49,
   "id": "d80629ca-2a7d-4b45-b599-2b477245460c",
   "metadata": {},
   "outputs": [],
   "source": [
    "def prepare_data_vowel(text):\n",
    "    text = text.lower()\n",
    "    return text"
   ]
  },
  {
   "cell_type": "code",
   "execution_count": 50,
   "id": "eff0882a-4aef-4f1d-92da-6b9a8e1234c5",
   "metadata": {},
   "outputs": [],
   "source": [
    "def check_vowel(text):\n",
    "    dict_vowel = {}\n",
    "    list_str = list(text)\n",
    "    chars = {'a', 'e', 'i', 'o', 'u'}\n",
    "    \n",
    "    for i in range(len(list_str)):\n",
    "        if list_str[i] in chars:\n",
    "            if list_str[i] not in dict_vowel.keys():\n",
    "                dict_vowel[list_str[i]] = 1\n",
    "            else:\n",
    "                dict_vowel[list_str[i]] += 1\n",
    "    \n",
    "    \n",
    "    return dict_vowel\n",
    "    "
   ]
  },
  {
   "cell_type": "code",
   "execution_count": 51,
   "id": "28a411d7-e889-4225-b102-cc18dd7ddd9d",
   "metadata": {},
   "outputs": [],
   "source": [
    "def main_vowel():\n",
    "   text = get_user_data()\n",
    "   text = prepare_data_vowel(text=text)\n",
    "   return check_vowel(text)"
   ]
  },
  {
   "cell_type": "code",
   "execution_count": 52,
   "id": "3d2e1587-6415-4072-ac92-9e92cdbd1448",
   "metadata": {},
   "outputs": [
    {
     "name": "stdin",
     "output_type": "stream",
     "text": [
      "enter text:  iii oo r m hossein kazemi mohamadi\n"
     ]
    },
    {
     "data": {
      "text/plain": [
       "{'i': 6, 'o': 4, 'e': 2, 'a': 3}"
      ]
     },
     "execution_count": 52,
     "metadata": {},
     "output_type": "execute_result"
    }
   ],
   "source": [
    "main_vowel()"
   ]
  },
  {
   "cell_type": "markdown",
   "id": "604d1d35-34cb-4055-a681-57538d813f2d",
   "metadata": {},
   "source": [
    "## Execrsie 4"
   ]
  },
  {
   "cell_type": "markdown",
   "id": "3fef73d4-8f80-4863-be04-958b7340ba38",
   "metadata": {},
   "source": [
    "### input1: [1 2 4 8 10] output: (24, 1)"
   ]
  },
  {
   "cell_type": "markdown",
   "id": "f1893c36-a8f6-41ca-9695-cf4432f009ef",
   "metadata": {},
   "source": [
    "### input:[2 3 5 9 10 11] output:(12, 1485)"
   ]
  },
  {
   "cell_type": "markdown",
   "id": "cb6e9a60-00b2-4887-9434-3f7d182b2816",
   "metadata": {},
   "source": [
    "### input:[3 7 9 11 15] output:(-1,31185)"
   ]
  },
  {
   "cell_type": "markdown",
   "id": "0209ea92-fa54-4656-87d8-c9edca2a8ae0",
   "metadata": {},
   "source": [
    "## تمامی نتایج به درستی حدس زده  شد"
   ]
  },
  {
   "cell_type": "code",
   "execution_count": 53,
   "id": "d1442ca5-0a94-416c-9992-c4781e7ba0c2",
   "metadata": {},
   "outputs": [],
   "source": [
    "def prepare_data_odd_even():\n",
    "    nums = input('enter number sperate with space')\n",
    "    nums = nums.split()\n",
    "    for i in range(len(nums)):\n",
    "        nums[i] = int(nums[i])\n",
    "    return nums"
   ]
  },
  {
   "cell_type": "code",
   "execution_count": 54,
   "id": "54999d83-070e-493d-b67f-c605f4171be7",
   "metadata": {},
   "outputs": [],
   "source": [
    "def f_1(num_list: list):\n",
    "    d = {}\n",
    "    a = []\n",
    "    b = []\n",
    "    for i in num_list:\n",
    "        if i % 2 == 0:\n",
    "            a.append(i)\n",
    "        else:\n",
    "            b.append(i)\n",
    "    d['a'] = a\n",
    "    d['b'] = b\n",
    "    return d"
   ]
  },
  {
   "cell_type": "code",
   "execution_count": 55,
   "id": "0c3941ad-2fef-48c0-a06b-8349ff604b2b",
   "metadata": {},
   "outputs": [],
   "source": [
    "def summation(value: list):\n",
    "    if len(value) != 0:\n",
    "        result = sum(value)\n",
    "        return result\n",
    "    return -1"
   ]
  },
  {
   "cell_type": "code",
   "execution_count": 56,
   "id": "50d61141-d991-499c-b891-e0b7bdd81aef",
   "metadata": {},
   "outputs": [],
   "source": [
    "def production(value:list):\n",
    "    if len(value) == 0:\n",
    "        return -1\n",
    "    prod = 1\n",
    "    for i in value:\n",
    "        prod *= i\n",
    "    return prod\n",
    "        "
   ]
  },
  {
   "cell_type": "code",
   "execution_count": 57,
   "id": "155a5df9-9107-4f5a-bf42-12d54a2c1165",
   "metadata": {},
   "outputs": [],
   "source": [
    "def main_odd_even():\n",
    "   result = prepare_data_odd_even()\n",
    "   result = f_1(result)\n",
    "   a = summation(result['a'])\n",
    "   b = production(result['b'])\n",
    "   return (a, b)"
   ]
  },
  {
   "cell_type": "code",
   "execution_count": 58,
   "id": "9c1be536-c8c4-4d98-bdcb-5b93a0857e3b",
   "metadata": {},
   "outputs": [
    {
     "name": "stdin",
     "output_type": "stream",
     "text": [
      "enter number sperate with space 2 4 8 10 12\n"
     ]
    },
    {
     "data": {
      "text/plain": [
       "(36, -1)"
      ]
     },
     "execution_count": 58,
     "metadata": {},
     "output_type": "execute_result"
    }
   ],
   "source": [
    "main_odd_even()"
   ]
  },
  {
   "cell_type": "code",
   "execution_count": null,
   "id": "ef758a2a-06ae-4ebc-9c08-a1f0d5f114ce",
   "metadata": {},
   "outputs": [],
   "source": [
    "print('test')\n",
    "print('test2')\n",
    "print('test3')\n",
    "print('test4')"
   ]
  },
  {
   "cell_type": "code",
   "execution_count": null,
   "id": "3479ce0d-9975-4d1c-bff9-8a801151ff5e",
   "metadata": {},
   "outputs": [],
   "source": [
    "def fun():\n",
    "    pass"
   ]
  }
 ],
 "metadata": {
  "kernelspec": {
   "display_name": "Python 3 (ipykernel)",
   "language": "python",
   "name": "python3"
  },
  "language_info": {
   "codemirror_mode": {
    "name": "ipython",
    "version": 3
   },
   "file_extension": ".py",
   "mimetype": "text/x-python",
   "name": "python",
   "nbconvert_exporter": "python",
   "pygments_lexer": "ipython3",
   "version": "3.11.5"
  }
 },
 "nbformat": 4,
 "nbformat_minor": 5
}
