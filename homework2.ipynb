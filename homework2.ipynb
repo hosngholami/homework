{
 "cells": [
  {
   "cell_type": "markdown",
   "id": "4761e598-f03f-44c4-8df7-c787dfa0854b",
   "metadata": {},
   "source": [
    "## Exercise 1"
   ]
  },
  {
   "cell_type": "code",
   "execution_count": 1,
   "id": "b561a3bd-34cc-4e4e-b726-4dc61680c27f",
   "metadata": {},
   "outputs": [],
   "source": [
    "text = \"Artificial Intelligence\""
   ]
  },
  {
   "cell_type": "code",
   "execution_count": 2,
   "id": "8e029167-6f47-4b92-a544-93809fb633e7",
   "metadata": {},
   "outputs": [
    {
     "name": "stdout",
     "output_type": "stream",
     "text": [
      "ecnegilletnI laicifitrA\n"
     ]
    }
   ],
   "source": [
    "print(text[-1::-1])"
   ]
  },
  {
   "cell_type": "code",
   "execution_count": 3,
   "id": "cb22c842-de74-4bfd-958a-d6e04933c6b3",
   "metadata": {},
   "outputs": [
    {
     "name": "stdout",
     "output_type": "stream",
     "text": [
      "Index A: 0\n",
      "Index B: 11\n"
     ]
    }
   ],
   "source": [
    "print('Index A:', text.index('A'))\n",
    "print('Index B:', text.index('I'))"
   ]
  },
  {
   "cell_type": "code",
   "execution_count": 4,
   "id": "98fb317f-c401-40be-9439-c5aaaa54a0bd",
   "metadata": {},
   "outputs": [
    {
     "name": "stdout",
     "output_type": "stream",
     "text": [
      "Artificial IntelligenceArtificial IntelligenceArtificial Intelligence\n"
     ]
    }
   ],
   "source": [
    "print(text * 3)"
   ]
  },
  {
   "cell_type": "markdown",
   "id": "f9c17f66-3644-479e-ad5c-87edb0f08ff7",
   "metadata": {},
   "source": [
    "## Exercise 2"
   ]
  },
  {
   "cell_type": "code",
   "execution_count": 5,
   "id": "d864a354-9869-4eec-b44f-b75524619547",
   "metadata": {},
   "outputs": [
    {
     "name": "stdout",
     "output_type": "stream",
     "text": [
      "[1, 3, 5, 7, 9, 11, 13, 15, 17, 19, 21, 23, 25, 27, 29, 31, 33, 35, 37, 39, 41, 43, 45, 47, 49, 51, 53, 55, 57, 59, 61, 63, 65, 67, 69, 71, 73, 75, 77, 79, 81, 83, 85, 87, 89, 91, 93, 95, 97, 99]\n"
     ]
    }
   ],
   "source": [
    "odd_num = []\n",
    "i = 1\n",
    "while i < 100:\n",
    "    if i % 2 != 0:\n",
    "        odd_num.append(i)\n",
    "    i += 1\n",
    "\n",
    "print(odd_num)"
   ]
  },
  {
   "cell_type": "code",
   "execution_count": 6,
   "id": "e351d60d-53ab-43e6-a08c-38d91ee609f7",
   "metadata": {},
   "outputs": [
    {
     "name": "stdout",
     "output_type": "stream",
     "text": [
      "1\n",
      "9\n",
      "17\n",
      "25\n",
      "33\n",
      "41\n",
      "49\n",
      "57\n",
      "65\n",
      "73\n",
      "81\n",
      "89\n",
      "97\n"
     ]
    }
   ],
   "source": [
    "step_4 = 4\n",
    "for num in range(0, len(odd_num), step_4):\n",
    "    print(odd_num[num])"
   ]
  },
  {
   "cell_type": "code",
   "execution_count": 7,
   "id": "2f2a0ee2-b79c-4fe5-8251-259a35db5734",
   "metadata": {},
   "outputs": [
    {
     "data": {
      "text/plain": [
       "[99,\n",
       " 97,\n",
       " 95,\n",
       " 93,\n",
       " 91,\n",
       " 89,\n",
       " 87,\n",
       " 85,\n",
       " 83,\n",
       " 81,\n",
       " 79,\n",
       " 77,\n",
       " 75,\n",
       " 73,\n",
       " 71,\n",
       " 69,\n",
       " 67,\n",
       " 65,\n",
       " 63,\n",
       " 61,\n",
       " 59,\n",
       " 57,\n",
       " 55,\n",
       " 53,\n",
       " 51,\n",
       " 49,\n",
       " 47,\n",
       " 45,\n",
       " 43,\n",
       " 41,\n",
       " 39,\n",
       " 37,\n",
       " 35,\n",
       " 33,\n",
       " 31,\n",
       " 29,\n",
       " 27,\n",
       " 25,\n",
       " 23,\n",
       " 21,\n",
       " 19,\n",
       " 17,\n",
       " 15,\n",
       " 13,\n",
       " 11,\n",
       " 9,\n",
       " 7,\n",
       " 5,\n",
       " 3]"
      ]
     },
     "execution_count": 7,
     "metadata": {},
     "output_type": "execute_result"
    }
   ],
   "source": [
    "rsv_list = []\n",
    "for i in range(-1 ,-(len(odd_num)),-1):\n",
    "    rsv_list.append(odd_num[i])\n",
    "rsv_list"
   ]
  },
  {
   "cell_type": "markdown",
   "id": "da7b428b-c806-4156-836c-7d62a0a82d5d",
   "metadata": {},
   "source": [
    "## Exercise 3"
   ]
  },
  {
   "cell_type": "code",
   "execution_count": 8,
   "id": "c79ae34a-bef8-4be3-9e61-5fc1a3b10918",
   "metadata": {},
   "outputs": [],
   "source": [
    "Describtion = \"\"\"Natural Language Processing, or NLP, is a subdomain of artificial intelligence and\n",
    "focuses primarily on interpretation and generation of natural language. It helps\n",
    "machines or computers understand the meaning of words and phrases in user\n",
    "statements. The most prominent highlight in all the best NLP examples is the fact that\n",
    "machines can understand the context of the statement and emotions of the user.\"\"\""
   ]
  },
  {
   "cell_type": "code",
   "execution_count": 9,
   "id": "97f87635-fe23-447c-a689-511cc0a291fc",
   "metadata": {},
   "outputs": [
    {
     "name": "stdout",
     "output_type": "stream",
     "text": [
      "Natural Language Processing, or NLP, is a subdomain of artificial intelligence and\n",
      "focuses primarily on interpretation and generation of natural language. It helps\n",
      "machines or computers understand the meaning of words and phrases in user\n",
      "statements. The most prominent highlight in all the best NLP examples is the fact that\n",
      "machines can understand the context of the statement and emotions of the user.\n"
     ]
    }
   ],
   "source": [
    "print(Describtion)"
   ]
  },
  {
   "cell_type": "code",
   "execution_count": 10,
   "id": "0f00cf5f-d4e6-4df9-a7b0-77efc84391d1",
   "metadata": {},
   "outputs": [],
   "source": [
    "Describtion = Describtion.lower()"
   ]
  },
  {
   "cell_type": "code",
   "execution_count": 11,
   "id": "f4a51a49-bfbf-4458-afee-e90a8f4c5d9f",
   "metadata": {},
   "outputs": [
    {
     "name": "stdout",
     "output_type": "stream",
     "text": [
      "natural language processing, or nlp, is a subdomain of artificial intelligence and\n",
      "focuses primarily on interpretation and generation of natural language. it helps\n",
      "machines or computers understand the meaning of words and phrases in user\n",
      "statements. the most prominent highlight in all the best nlp examples is the fact that\n",
      "machines can understand the context of the statement and emotions of the user.\n"
     ]
    }
   ],
   "source": [
    "print(Describtion)"
   ]
  },
  {
   "cell_type": "code",
   "execution_count": 12,
   "id": "4fade30a-0f83-4fd2-afbd-f43e5d1ff88c",
   "metadata": {},
   "outputs": [],
   "source": [
    "Describtion = Describtion.replace(',', '')\n",
    "Describtion = Describtion.replace('.', '')\n",
    "Describtion = Describtion.replace('\\n', ' ')"
   ]
  },
  {
   "cell_type": "code",
   "execution_count": 13,
   "id": "c8582f36-b7fa-4869-ab04-6742000c5ad8",
   "metadata": {},
   "outputs": [
    {
     "name": "stdout",
     "output_type": "stream",
     "text": [
      "natural language processing or nlp is a subdomain of artificial intelligence and focuses primarily on interpretation and generation of natural language it helps machines or computers understand the meaning of words and phrases in user statements the most prominent highlight in all the best nlp examples is the fact that machines can understand the context of the statement and emotions of the user\n"
     ]
    }
   ],
   "source": [
    "print(Describtion)"
   ]
  },
  {
   "cell_type": "code",
   "execution_count": 14,
   "id": "2758a9ff-2aa6-4c05-a4e8-8b4dcf940257",
   "metadata": {},
   "outputs": [],
   "source": [
    "slices = Describtion.split(' ')"
   ]
  },
  {
   "cell_type": "code",
   "execution_count": 16,
   "id": "506acc57-fa6a-4d81-a3fa-dbdd3e3a63c0",
   "metadata": {},
   "outputs": [],
   "source": [
    "dictionary = {}\n",
    "for element in slices:\n",
    "    if element not in dictionary.keys():\n",
    "        dictionary[element] = 1\n",
    "    else:\n",
    "        dictionary[element] += 1"
   ]
  },
  {
   "cell_type": "code",
   "execution_count": 17,
   "id": "e71c127c-6435-4f3e-923d-e639e05de6d8",
   "metadata": {},
   "outputs": [
    {
     "name": "stdout",
     "output_type": "stream",
     "text": [
      "{'natural': 2, 'language': 2, 'processing': 1, 'or': 2, 'nlp': 2, 'is': 2, 'a': 1, 'subdomain': 1, 'of': 5, 'artificial': 1, 'intelligence': 1, 'and': 4, 'focuses': 1, 'primarily': 1, 'on': 1, 'interpretation': 1, 'generation': 1, 'it': 1, 'helps': 1, 'machines': 2, 'computers': 1, 'understand': 2, 'the': 7, 'meaning': 1, 'words': 1, 'phrases': 1, 'in': 2, 'user': 2, 'statements': 1, 'most': 1, 'prominent': 1, 'highlight': 1, 'all': 1, 'best': 1, 'examples': 1, 'fact': 1, 'that': 1, 'can': 1, 'context': 1, 'statement': 1, 'emotions': 1}\n"
     ]
    }
   ],
   "source": [
    "print(dictionary)"
   ]
  },
  {
   "cell_type": "code",
   "execution_count": 18,
   "id": "af0ff7b5-e989-4890-8c14-4653f44f0ce3",
   "metadata": {},
   "outputs": [
    {
     "name": "stdout",
     "output_type": "stream",
     "text": [
      "natural 2\n",
      "language 2\n",
      "processing 1\n",
      "or 2\n",
      "nlp 2\n",
      "is 2\n",
      "a 1\n",
      "subdomain 1\n",
      "of 5\n",
      "artificial 1\n",
      "intelligence 1\n",
      "and 4\n",
      "focuses 1\n",
      "primarily 1\n",
      "on 1\n",
      "interpretation 1\n",
      "generation 1\n",
      "it 1\n",
      "helps 1\n",
      "machines 2\n",
      "computers 1\n",
      "understand 2\n",
      "the 7\n",
      "meaning 1\n",
      "words 1\n",
      "phrases 1\n",
      "in 2\n",
      "user 2\n",
      "statements 1\n",
      "most 1\n",
      "prominent 1\n",
      "highlight 1\n",
      "all 1\n",
      "best 1\n",
      "examples 1\n",
      "fact 1\n",
      "that 1\n",
      "can 1\n",
      "context 1\n",
      "statement 1\n",
      "emotions 1\n"
     ]
    }
   ],
   "source": [
    "for key, value in dictionary.items():\n",
    "    print(key, value)"
   ]
  },
  {
   "cell_type": "code",
   "execution_count": null,
   "id": "6591cfda-e15f-47a3-bfb0-89b2ac4bd74f",
   "metadata": {},
   "outputs": [],
   "source": []
  }
 ],
 "metadata": {
  "kernelspec": {
   "display_name": "Python 3 (ipykernel)",
   "language": "python",
   "name": "python3"
  },
  "language_info": {
   "codemirror_mode": {
    "name": "ipython",
    "version": 3
   },
   "file_extension": ".py",
   "mimetype": "text/x-python",
   "name": "python",
   "nbconvert_exporter": "python",
   "pygments_lexer": "ipython3",
   "version": "3.11.5"
  }
 },
 "nbformat": 4,
 "nbformat_minor": 5
}
